{
 "cells": [
  {
   "cell_type": "markdown",
   "metadata": {
    "colab_type": "text",
    "id": "5Hoh4_v33i4j"
   },
   "source": [
    "# Monge-Ampere Equation Multigrid Solver"
   ]
  },
  {
   "cell_type": "code",
   "execution_count": 1,
   "metadata": {
    "colab": {},
    "colab_type": "code",
    "id": "cmiQ04KZ3i4l"
   },
   "outputs": [],
   "source": [
    "import numpy \n",
    "%matplotlib inline\n",
    "#from __future__ import print_function\n",
    "import matplotlib.pyplot as plt\n",
    "import scipy\n",
    "from scipy import sparse\n",
    "from scipy.sparse import spdiags\n",
    "import scipy.sparse.linalg as linalg\n",
    "import matplotlib.pyplot as plt\n",
    "from mpl_toolkits.mplot3d import Axes3D"
   ]
  },
  {
   "cell_type": "markdown",
   "metadata": {
    "colab_type": "text",
    "id": "pNLJF6o_3i4u"
   },
   "source": [
    "The plan is to do the following: \n",
    "\n",
    "- Explicit finite difference method with discretizing the second derivatives using standard central differences on a uniform Cartesian grid\n",
    "$$(D^2_{xx}u_{i,j})(D^2_{yy}u_{i,j}) - (D^2_{xy}u_{i,j})^2 = f_{i,j}$$\n",
    "- Discussion of monotonicity and exploring the alternate form of the MA equation\n",
    "$$\\det(D^2u) = u_{x_1x_1}u_{x_2x_2} - u_{x_1x_2}^2 \\approx u_{v_1v_1}u_{v_2v_2} $$\n",
    "where $v_1$ and $v_2$ are basis that give the minimum product of $u_{x_1x_1}u_{x_2x_2}$ considering all $x_1$ and $x_2$ \n",
    "- Implement full multigrid \n",
    "- Use different sequences of V-cycles\n"
   ]
  },
  {
   "cell_type": "code",
   "execution_count": 2,
   "metadata": {
    "colab": {},
    "colab_type": "code",
    "id": "W2eQYlJW3i4v"
   },
   "outputs": [],
   "source": [
    "#A_solver.m file \n",
    "\n",
    "def A_solver(u, h, basesNum):\n",
    "    \"\"\"\n",
    "    The function calculates u_{x_1,x_1}*u_{x_2,x_2} \n",
    "    \n",
    "    :Input:\n",
    "     - *u* (numpy.ndarray) \n",
    "     - *h* (float) gridsize \n",
    "     - *basesNum* (int) choice of basis use\n",
    "    \n",
    "    :Output:\n",
    "     - *U* (numpy.darray)\n",
    "    \n",
    "    \"\"\"\n",
    "    \n",
    "    # Calculate u_xx*u_yy, and leave only the nonnegative elements\n",
    "    u_xy = numpy.maximum(1 / h**2 * ( u[0:-2,1:-1] + u[2:,1:-1] - 2 * u[1:-1,1:-1] ),0) \\\n",
    "         * numpy.maximum(1 / h**2 * ( u[1:-1,0:-2] + u[1:-1,2:] - 2 * u[1:-1,1:-1]), 0)\n",
    "    \n",
    "    if basesNum == 2:\n",
    "        # Calculate u_vv*u_v(perp)v(perp), and leave only the nonnegative elements.\n",
    "        u_vw = numpy.maximum(1/(2*h**2) * (u[2:,0:-2]+u[0:-2,2:]-2.*u[1:-1,1:-1]) , 0) \\\n",
    "               * numpy.maximum(1/(2*h**2) * (u[2:,2:]+u[0:-2,0:-2]-2.*u[1:-1,1:-1]) , 0)\n",
    "        # Take the minimum of the two matrices.\n",
    "        U = numpy.minimum(u_xy ,u_vw)\n",
    "    \n",
    "    else:\n",
    "        U = u_xy\n",
    "    \n",
    "    return U"
   ]
  },
  {
   "cell_type": "code",
   "execution_count": 3,
   "metadata": {
    "colab": {},
    "colab_type": "code",
    "id": "hEo66Xnt3i40"
   },
   "outputs": [],
   "source": [
    "# init.m file\n",
    "def init(F, g, n, h ,X, Y):\n",
    "    \"\"\"\n",
    "    Calculates a reasonable initial guess to plug into the FAS function\n",
    "    \n",
    "    :Input:\n",
    "     -*F*\n",
    "     -*g*\n",
    "     -*n*\n",
    "     -*h*\n",
    "     -*X*\n",
    "     -*Y*\n",
    "    \n",
    "    :Output:\n",
    "     -*u* (ndarray) initial guess with shape\n",
    "    \n",
    "    \"\"\"\n",
    "    m = n - 2\n",
    "    \n",
    "    F = numpy.sqrt(2 * F[1:-1, 1:-1])\n",
    "    \n",
    "    G = g(X, Y)\n",
    "#     print(F.shape, G.shape, m, n)\n",
    "    F[:,0] = F[:,0] - G[1:m,0] / h**2\n",
    "    F[:, -1] = F[:, -1] - G[1:m, -1] / h**2\n",
    "    F[0,:] = F[0,:] - G[0,1:m] / h**2\n",
    "    F[-1,:] = F[-1,:] - G[-1,1:m] / h**2\n",
    "    \n",
    "    F = numpy.reshape(F,(m-1,m-1))\n",
    "    \n",
    "    e = numpy.ones(m-1)\n",
    "    T = sparse.spdiags([e, -4.0 * e, e], [-1, 0, 1], m-1, m-1)\n",
    "    S = sparse.spdiags([e, e], [-1, 1], m-1, m-1)\n",
    "    I = sparse.eye(m-1)\n",
    "    A = sparse.kron(I, T) + sparse.kron(S, I)\n",
    "    A /= h**2\n",
    "    \n",
    "#     print(A.shape, F.shape)\n",
    "    uVec = linalg.spsolve(A, F.reshape((m-1)**2, order='F'))\n",
    "    G[1:-1,1:-1] = numpy.reshape(uVec,(m-1,m-1), order='F') #C-like index ordering\n",
    "    u = G;\n",
    "\n",
    "    return u"
   ]
  },
  {
   "cell_type": "code",
   "execution_count": 4,
   "metadata": {
    "colab": {},
    "colab_type": "code",
    "id": "U4ztE8k03i43"
   },
   "outputs": [],
   "source": [
    "def looper2(F,g,n,N,levels,iterVec,h,u0,xa,xb,ya,yb,tol,mex):\n",
    "    \"\"\"\n",
    "    ???\n",
    "    :Input:\n",
    "     -\n",
    "    \"\"\"\n",
    "    count = 0\n",
    "    u = u0\n",
    "    res = 1\n",
    "    resLast = 1e2\n",
    "    \n",
    "    while (res > tol) and (count < 15):\n",
    "        count += 1\n",
    "        u, resMat, err = FAS_V2(F, g, n, N, levels, iterVec, h, u, xa, xb, ya, yb, count, mex)\n",
    "        res = numpy.linalg.norm(resMat, ord = numpy.inf)\n",
    "        resLast = res\n",
    "    \n",
    "    return u,resMat,err,time,count"
   ]
  },
  {
   "cell_type": "code",
   "execution_count": 5,
   "metadata": {
    "colab": {},
    "colab_type": "code",
    "id": "RuWDqm9x3i47"
   },
   "outputs": [],
   "source": [
    "def FAS_V2(F,g,n,N,levels,iterVec,h,u0,xa,xb,ya,yb,count,mex):\n",
    "    \"\"\"\n",
    "    FAS implements the Full Approximation Scheme\n",
    "    :Inputs: \n",
    "     -*F*\n",
    "     -*g*\n",
    "     -*n*\n",
    "     -*N*\n",
    "     -*levels*\n",
    "     -*iterVec*\n",
    "     \n",
    "     \n",
    "    \"\"\"\n",
    "    direction = 'down'\n",
    "    plotFigs = 0\n",
    "    \n",
    "    # Do the initial Gauss-Seidel iteration\n",
    "    u, resMat, err = GaussSeidel(F,g,iterVec,h,u0,xa,xb,ya,yb,0,mex);\n",
    "    res = numpy.linalg.norm(resMat, ord = numpy.inf)\n",
    "\n",
    "    if plotFigs == 1:\n",
    "        fig = plt.figure()\n",
    "        axes = fig.add_subplot(111,projection='3d')\n",
    "        Axes3D.scatter()\n",
    "        # unfinished\n",
    "        \n",
    "    #Go down one level of granularity, setting a new n and h.\n",
    "    n = (n + 1) / 2 \n",
    "    h = 2*h \n",
    "\n",
    "    #Set the coarse versions of u, F, and the residual matrix.\n",
    "    v = restrict(u)\n",
    "    resCoarse = restrict(resMat)\n",
    "    \n",
    "    # Evaluate the MA equation on the coarse grid, pad it with zeros so that\n",
    "    # it's the same size as resCoarse, and add them together.\n",
    "    A = numpy.pad(A_solver(v,h,2),1, pad_with, padder=0) + resCoarse\n",
    "\n",
    "    print('n = ',n)\n",
    "    \n",
    "    # If we're on the lowest level, run the Gauss-Seidel calculation and set\n",
    "    # vNew as the output. Otherwise, set vNew as the recursive output of FAS_V.\n",
    "    if numpy.floor(numpy.log2(N)) - numpy.floor(numpy.log2(n)) != levels: \n",
    "        vNew = FAS_V2(A,g,n,N,levels,iterVec,h,v,xa,xb,ya,yb,count,mex)\n",
    "    \n",
    "    else:\n",
    "        vNew, resMat, err = GaussSeidel(A,g,iterVec,h,v,xa,xb,ya,yb,1,mex)\n",
    "    \n",
    "    direction = 'up'\n",
    "    \n",
    "    # Calculate the coarse error matrix.\n",
    "    eCoarse = vNew - v\n",
    "\n",
    "    # Interpolate the coarse error matrix to the fine level.\n",
    "    eFine = enhance(eCoarse)\n",
    "\n",
    "    # Add the error matrix to the original matrix u.\n",
    "    print(u.shape, eFine.shape)\n",
    "    u[1:-1,1:-1] = u[1:-1,1:-1] + eFine[1:-1,1:-1]\n",
    "\n",
    "    # Come back up to the fine level.\n",
    "    n = 2 * n - 1\n",
    "    h = h / 2\n",
    "\n",
    "    #Do a few more Gauss-Seidel iterations on u and calculate the residual matrix.\n",
    "    u, resMat, err = GaussSeidel(F,g,iterVec,h,u,xa,xb,ya,yb,0,mex)\n",
    "    res = numpy.linalg.norm(resMat, ord = numpy.inf)\n",
    "\n",
    "    print('n = ',n)\n",
    "    \n",
    "    if plotFigs == 1:\n",
    "        fig = plt.figure()\n",
    "        axes = fig.add_subplot(111,projection='3d')\n",
    "        Axes3D.scatter(resMat, 'linestyle')\n",
    "        axes.title('n = %d, res = %f, count = %d',n,res,count)\n",
    "        plt.show()\n",
    "    \n",
    "    # If we're on the finest level, calculate the error. Otherwise, set it to\n",
    "    # zero so as to avoid a 'not enough output arguments' error.\n",
    "    if n == N:\n",
    "        x = numpy.arange(xa, xb, h)\n",
    "        y = numpy.arange(ya, yb, h)\n",
    "        [X,Y] = meshgrid(x,y)\n",
    "        G = g(X,Y)\n",
    "        err = G - u\n",
    "    else:\n",
    "        err = 0;\n",
    "    \n",
    "    return u, resMat, err"
   ]
  },
  {
   "cell_type": "code",
   "execution_count": 6,
   "metadata": {
    "colab": {},
    "colab_type": "code",
    "id": "CbFoiopB3i49"
   },
   "outputs": [],
   "source": [
    "def enhance(u):\n",
    "    \"\"\"\n",
    "    \"\"\"\n",
    "    n = 2 * len(u) - 1\n",
    "    uFine = numpy.zeros((n,n))\n",
    "    \n",
    "    uFine[0::2,0::2] = u\n",
    "    uFine[1:-1:2,0::2] = 0.5 * (u[0:-1,:] + u[1:,:])\n",
    "    uFine[0::2,1:-1:2] = 0.5 * (u[:,0:-1] + u[:,1:])\n",
    "    uFine[1:-1:2,1:-1:2] = 0.25 * (u[0:-1,0:-1] + u[1:,0:-1] + u[0:-1,1:] + u[1:,1:])\n",
    "    \n",
    "    return uFine"
   ]
  },
  {
   "cell_type": "code",
   "execution_count": 7,
   "metadata": {
    "colab": {},
    "colab_type": "code",
    "id": "H3_Hmy2X3i4_"
   },
   "outputs": [],
   "source": [
    "def restrict(u):\n",
    "    \"\"\"\n",
    "    \"\"\"\n",
    "    U = u  \n",
    "\n",
    "    # Pad u with zeros to make the calculation simpler.\n",
    "    u = numpy.pad(u,1, pad_with, padder=0)\n",
    "\n",
    "    # Set uCoarse according to a linear combination of points from u.\n",
    "    uCoarse = 0.5 * u[1:-1:2,1:-1:2] + 0.125*(u[0:-2:2,1:-1:2] \\\n",
    "                                            + u[2::2,1:-1:2] \\\n",
    "                                            + u[1:-1:2,0:-2:2] \\\n",
    "                                            + u[1:-1:2,2::2])\n",
    "\n",
    "    # Restrict u the old way by siply deleting every other point.\n",
    "    u = U[0::2,0::2]\n",
    "\n",
    "    # Reset the boundary values of uCoase with the correct boundary values.\n",
    "    uCoarse[:,0] = u[:,0]\n",
    "    uCoarse[:,-1] = u[:,-1]\n",
    "    uCoarse[0,:] = u[0,:]\n",
    "    uCoarse[-1,:] = u[-1,:]\n",
    "    \n",
    "    return uCoarse"
   ]
  },
  {
   "cell_type": "code",
   "execution_count": 8,
   "metadata": {
    "colab": {},
    "colab_type": "code",
    "id": "7IBSmUBx3i5A"
   },
   "outputs": [],
   "source": [
    "def pad_with(vector, pad_width, iaxis, kwargs):\n",
    "     pad_value = kwargs.get('padder', 10)\n",
    "     vector[:pad_width[0]] = pad_value\n",
    "     vector[-pad_width[1]:] = pad_value\n",
    "     return vector\n",
    "\n",
    "def GaussSeidel(F,g,iterVec,h,u0,xa,xb,ya,yb,coarse,mex):\n",
    "    \"\"\"\n",
    "    \n",
    "    \"\"\"\n",
    "    # Lambda is a constant used for calculating a weighted combination of the\n",
    "    # existing u and the updated u.\n",
    "    Lambda = 0.05\n",
    "\n",
    "    # Set the grid on which the exact solution g(x,y) will be applied.\n",
    "    x = numpy.arange(xa, xb, h)\n",
    "    y = numpy.arange(ya, yb, h) \n",
    "    [X,Y] = numpy.meshgrid(x,y)\n",
    "    G = g(X,Y)\n",
    "\n",
    "    # Initialize the matrix u.\n",
    "    u = u0\n",
    "\n",
    "    # Set the right-hand side of the MA equation and the number of iterations \n",
    "    # in the loop depending on whether the input matrix u is on the coarse or \n",
    "    # the fine level.\n",
    "    if coarse == 1:\n",
    "        maxCount = iterVec[0]\n",
    "    else:\n",
    "        maxCount = iterVec[1]\n",
    "\n",
    "    for cuenta in range(1, maxCount+1):\n",
    "        if mex == 0:\n",
    "            uNew = notJacobi(u, F, h, 2)\n",
    "        else:\n",
    "            m, n = size(u)\n",
    "            uNew, hInv = notNotGaussSeidel(u,F,h,m,n)\n",
    "            uNew = uNew[1:-1,1:-1]\n",
    "\n",
    "        # This is the MATLAB code\n",
    "#          figure(18)\n",
    "#          u_Mat = notJacobi(u,F,h,2);\n",
    "\n",
    "#          [m,n] = size(u);\n",
    "#          u_C = notNotGaussSeidel(u,F,h,m,n);\n",
    "#          u_C = u_C(2:end-1,2:end-1);\n",
    "\n",
    "#          surf(abs(u_Mat - u_C))\n",
    "#          surf(u_C)\n",
    "\n",
    "#          uNew = notJacobi(u,F,h,2);\n",
    "\n",
    "        # Update u with a weighted sum of points from the already-extant u and\n",
    "        # the newly calculated uNew.\n",
    "        u[1:-1,1:-1] = Lambda * u[1:-1,1:-1] + (1 - Lambda) * uNew\n",
    "\n",
    "        resMat = numpy.pad(F[1:-1,1:-1] - A_solver(u,h,2), 1, pad_with, padder=0)\n",
    "\n",
    "#         figure(18)\n",
    "#         surf(resMat)\n",
    "#         drawnow\n",
    "\n",
    "    # Subtract u from the exact solution to find the error matrix.\n",
    "    err = G - u\n",
    "\n",
    "    #Pad the residual matrix with zeros to make it the right size again.\n",
    "    resMat = numpy.pad(F[1:-1,1:-1] - A_solver(u,h,2),1, pad_with, padder=0)\n",
    "\n",
    "    return u, resMat, err\n",
    "\n"
   ]
  },
  {
   "cell_type": "code",
   "execution_count": 9,
   "metadata": {
    "colab": {},
    "colab_type": "code",
    "id": "jA0wxS0z3i5C"
   },
   "outputs": [],
   "source": [
    "def notJacobi(u,F,h,basesNum):\n",
    "    \"\"\"\n",
    "    \n",
    "    \"\"\"\n",
    "    for i in numpy.arange(1, u.shape[0] - 1):\n",
    "        for j in numpy.arange(1, u.shape[1]-1):\n",
    "            if basesNum == 2:\n",
    "                A_xy = 1 / h**4 * ( u[i-1,j] + u[i+1,j] - 2 * u[i,j]) \\\n",
    "                              * (u[i,j-1]+u[i,j+1]-2*u[i,j])\n",
    "                A_vw = 1/(4*h**4) * (u[i-1,j-1]+u[i+1,j+1] - 2 * u[i,j]) \\\n",
    "                                * (u[i+1,j-1] + u[i-1,j+1] - 2 * u[i,j])\n",
    "            if A_xy <= A_vw: \n",
    "                u[i,j] = 0.25 * (u[i+1,j] + u[i-1,j] + u[i,j-1] + u[i,j+1]) \\\n",
    "                    -0.5 * numpy.sqrt(0.25*((u[i+1,j] + u[i-1,j] - u[i,j-1]-u[i,j+1]) ** 2) \\\n",
    "                    +h**4*F[i,j])\n",
    "            else:\n",
    "                u[i,j] = 0.25*(u[i-1,j+1]+u[i+1,j-1]+u[i+1,j+1]+u[i-1,j-1]) \\\n",
    "                    -0.5 * numpy.sqrt(0.25*((u[i-1,j+1] + u[i+1,j-1] - u[i+1,j+1] - u[i-1,j-1]) ** 2) \\\n",
    "                    +4*h**4 * F[i,j])\n",
    "        else:\n",
    "            u[i,j] = 0.25 * (u[i+1,j]+u[i-1,j]+u[i,j-1]+u[i,j+1]) \\\n",
    "                    -0.5 * numpy.sqrt(0.25*((u[i+1,j]+u[i-1,j]-u[i,j-1]-u[i,j+1])**2) \\\n",
    "                    +h**4 * F[i,j])\n",
    "    u = u[1:-1,1:-1]\n",
    "    \n",
    "    return u\n"
   ]
  },
  {
   "cell_type": "code",
   "execution_count": 10,
   "metadata": {
    "colab": {
     "base_uri": "https://localhost:8080/",
     "height": 426
    },
    "colab_type": "code",
    "executionInfo": {
     "elapsed": 89818,
     "status": "error",
     "timestamp": 1557410521696,
     "user": {
      "displayName": "Ivan Mitevski",
      "photoUrl": "",
      "userId": "16387745102337024781"
     },
     "user_tz": 240
    },
    "id": "s0H8opiE3i5E",
    "outputId": "ff7027d8-04c4-445d-a559-d8ed8ae884d1",
    "scrolled": false
   },
   "outputs": [
    {
     "name": "stdout",
     "output_type": "stream",
     "text": [
      "i = 7\n",
      "n =  129.0\n",
      "(256, 256) (255, 255)\n"
     ]
    },
    {
     "ename": "ValueError",
     "evalue": "operands could not be broadcast together with shapes (254,254) (253,253) ",
     "output_type": "error",
     "traceback": [
      "\u001b[0;31m---------------------------------------------------------------------------\u001b[0m",
      "\u001b[0;31mValueError\u001b[0m                                Traceback (most recent call last)",
      "Cell \u001b[0;32mIn[10], line 48\u001b[0m\n\u001b[1;32m     45\u001b[0m N \u001b[38;5;241m=\u001b[39m n\n\u001b[1;32m     47\u001b[0m \u001b[38;5;28;01mfor\u001b[39;00m j \u001b[38;5;129;01min\u001b[39;00m \u001b[38;5;28mrange\u001b[39m(\u001b[38;5;241m1\u001b[39m,i\u001b[38;5;241m+\u001b[39m\u001b[38;5;241m1\u001b[39m):\n\u001b[0;32m---> 48\u001b[0m     u,resMat,error,time,count \u001b[38;5;241m=\u001b[39m \u001b[43mlooper2\u001b[49m\u001b[43m(\u001b[49m\u001b[43mF\u001b[49m\u001b[43m,\u001b[49m\u001b[43mg\u001b[49m\u001b[43m,\u001b[49m\u001b[43mn\u001b[49m\u001b[43m,\u001b[49m\u001b[43mN\u001b[49m\u001b[43m,\u001b[49m\u001b[43mj\u001b[49m\u001b[43m,\u001b[49m\u001b[38;5;241;43m2\u001b[39;49m\u001b[38;5;241;43m*\u001b[39;49m\u001b[43miterVec\u001b[49m\u001b[43m,\u001b[49m\u001b[43mh\u001b[49m\u001b[43m,\u001b[49m\u001b[43mu0\u001b[49m\u001b[43m,\u001b[49m\u001b[43mxa\u001b[49m\u001b[43m,\u001b[49m\u001b[43mxb\u001b[49m\u001b[43m,\u001b[49m\u001b[43mya\u001b[49m\u001b[43m,\u001b[49m\u001b[43myb\u001b[49m\u001b[43m,\u001b[49m\u001b[43mtol\u001b[49m\u001b[43m,\u001b[49m\u001b[43mk\u001b[49m\u001b[43m)\u001b[49m\n\u001b[1;32m     49\u001b[0m     stats[i,j\u001b[38;5;241m+\u001b[39m\u001b[38;5;241m1\u001b[39m,k\u001b[38;5;241m+\u001b[39m\u001b[38;5;241m1\u001b[39m] \u001b[38;5;241m=\u001b[39m count\n\u001b[1;32m     50\u001b[0m     save(\u001b[38;5;124m'\u001b[39m\u001b[38;5;124mstats.mat\u001b[39m\u001b[38;5;124m'\u001b[39m,\u001b[38;5;124m'\u001b[39m\u001b[38;5;124mstats\u001b[39m\u001b[38;5;124m'\u001b[39m)\n",
      "Cell \u001b[0;32mIn[4], line 14\u001b[0m, in \u001b[0;36mlooper2\u001b[0;34m(F, g, n, N, levels, iterVec, h, u0, xa, xb, ya, yb, tol, mex)\u001b[0m\n\u001b[1;32m     12\u001b[0m \u001b[38;5;28;01mwhile\u001b[39;00m (res \u001b[38;5;241m>\u001b[39m tol) \u001b[38;5;129;01mand\u001b[39;00m (count \u001b[38;5;241m<\u001b[39m \u001b[38;5;241m15\u001b[39m):\n\u001b[1;32m     13\u001b[0m     count \u001b[38;5;241m+\u001b[39m\u001b[38;5;241m=\u001b[39m \u001b[38;5;241m1\u001b[39m\n\u001b[0;32m---> 14\u001b[0m     u, resMat, err \u001b[38;5;241m=\u001b[39m \u001b[43mFAS_V2\u001b[49m\u001b[43m(\u001b[49m\u001b[43mF\u001b[49m\u001b[43m,\u001b[49m\u001b[43m \u001b[49m\u001b[43mg\u001b[49m\u001b[43m,\u001b[49m\u001b[43m \u001b[49m\u001b[43mn\u001b[49m\u001b[43m,\u001b[49m\u001b[43m \u001b[49m\u001b[43mN\u001b[49m\u001b[43m,\u001b[49m\u001b[43m \u001b[49m\u001b[43mlevels\u001b[49m\u001b[43m,\u001b[49m\u001b[43m \u001b[49m\u001b[43miterVec\u001b[49m\u001b[43m,\u001b[49m\u001b[43m \u001b[49m\u001b[43mh\u001b[49m\u001b[43m,\u001b[49m\u001b[43m \u001b[49m\u001b[43mu\u001b[49m\u001b[43m,\u001b[49m\u001b[43m \u001b[49m\u001b[43mxa\u001b[49m\u001b[43m,\u001b[49m\u001b[43m \u001b[49m\u001b[43mxb\u001b[49m\u001b[43m,\u001b[49m\u001b[43m \u001b[49m\u001b[43mya\u001b[49m\u001b[43m,\u001b[49m\u001b[43m \u001b[49m\u001b[43myb\u001b[49m\u001b[43m,\u001b[49m\u001b[43m \u001b[49m\u001b[43mcount\u001b[49m\u001b[43m,\u001b[49m\u001b[43m \u001b[49m\u001b[43mmex\u001b[49m\u001b[43m)\u001b[49m\n\u001b[1;32m     15\u001b[0m     res \u001b[38;5;241m=\u001b[39m numpy\u001b[38;5;241m.\u001b[39mlinalg\u001b[38;5;241m.\u001b[39mnorm(resMat, \u001b[38;5;28mord\u001b[39m \u001b[38;5;241m=\u001b[39m numpy\u001b[38;5;241m.\u001b[39minf)\n\u001b[1;32m     16\u001b[0m     resLast \u001b[38;5;241m=\u001b[39m res\n",
      "Cell \u001b[0;32mIn[5], line 59\u001b[0m, in \u001b[0;36mFAS_V2\u001b[0;34m(F, g, n, N, levels, iterVec, h, u0, xa, xb, ya, yb, count, mex)\u001b[0m\n\u001b[1;32m     57\u001b[0m \u001b[38;5;66;03m# Add the error matrix to the original matrix u.\u001b[39;00m\n\u001b[1;32m     58\u001b[0m \u001b[38;5;28mprint\u001b[39m(u\u001b[38;5;241m.\u001b[39mshape, eFine\u001b[38;5;241m.\u001b[39mshape)\n\u001b[0;32m---> 59\u001b[0m u[\u001b[38;5;241m1\u001b[39m:\u001b[38;5;241m-\u001b[39m\u001b[38;5;241m1\u001b[39m,\u001b[38;5;241m1\u001b[39m:\u001b[38;5;241m-\u001b[39m\u001b[38;5;241m1\u001b[39m] \u001b[38;5;241m=\u001b[39m \u001b[43mu\u001b[49m\u001b[43m[\u001b[49m\u001b[38;5;241;43m1\u001b[39;49m\u001b[43m:\u001b[49m\u001b[38;5;241;43m-\u001b[39;49m\u001b[38;5;241;43m1\u001b[39;49m\u001b[43m,\u001b[49m\u001b[38;5;241;43m1\u001b[39;49m\u001b[43m:\u001b[49m\u001b[38;5;241;43m-\u001b[39;49m\u001b[38;5;241;43m1\u001b[39;49m\u001b[43m]\u001b[49m\u001b[43m \u001b[49m\u001b[38;5;241;43m+\u001b[39;49m\u001b[43m \u001b[49m\u001b[43meFine\u001b[49m\u001b[43m[\u001b[49m\u001b[38;5;241;43m1\u001b[39;49m\u001b[43m:\u001b[49m\u001b[38;5;241;43m-\u001b[39;49m\u001b[38;5;241;43m1\u001b[39;49m\u001b[43m,\u001b[49m\u001b[38;5;241;43m1\u001b[39;49m\u001b[43m:\u001b[49m\u001b[38;5;241;43m-\u001b[39;49m\u001b[38;5;241;43m1\u001b[39;49m\u001b[43m]\u001b[49m\n\u001b[1;32m     61\u001b[0m \u001b[38;5;66;03m# Come back up to the fine level.\u001b[39;00m\n\u001b[1;32m     62\u001b[0m n \u001b[38;5;241m=\u001b[39m \u001b[38;5;241m2\u001b[39m \u001b[38;5;241m*\u001b[39m n \u001b[38;5;241m-\u001b[39m \u001b[38;5;241m1\u001b[39m\n",
      "\u001b[0;31mValueError\u001b[0m: operands could not be broadcast together with shapes (254,254) (253,253) "
     ]
    }
   ],
   "source": [
    "#main.m file\n",
    "\n",
    "f1 = lambda x, y: (1 + x ** 2)*(1 + y**2)*numpy.exp(x**2 + y**2)\n",
    "f2 = lambda x, y: numpy.exp(x**2 + y**2)*(1+0.5 * (x + y)**2)*(1 + 0.5 * (y - x)**2)\n",
    "g = lambda x, y: numpy.exp((x**2 + y**2)/2)\n",
    "\n",
    "# Set the minimum and maximum values of n for the solution matrix.\n",
    "minN = 7;\n",
    "maxN = 7;\n",
    "stats = numpy.zeros((maxN - minN + 1, maxN + 1, 3))\n",
    "stats[:,1,:] = 1\n",
    "\n",
    "basesNum = 2 \n",
    "iterVec = numpy.array([5, 50])\n",
    "\n",
    "# k == 0 if we don't want to use the mex file, k == 1 if we do\n",
    "\n",
    "for k in range(1):\n",
    "    for i in range(minN, maxN + 1):\n",
    "        print('i =',i)\n",
    "        \n",
    "        n = 2 **(i + 1) + 1\n",
    "        h = 1 / (n - 1)\n",
    "        xa = 0; xb = 1; ya = 0; yb = 1; tol = h**2 / 10\n",
    "        x = numpy.arange(xa, xb, h)\n",
    "        y = numpy.arange(ya, yb, h)\n",
    "        [X, Y] = numpy.meshgrid(x, y)\n",
    "        \n",
    "        if basesNum == 1:\n",
    "            F = f1(X,Y)\n",
    "        else:\n",
    "            F1 = f1(X, Y)\n",
    "            F2 = f2(X, Y)\n",
    "            F = numpy.minimum(F1, F2)\n",
    "        \n",
    "        G = g(X, Y)\n",
    "        A = numpy.zeros((n, n))\n",
    "        u0 = init(F, g, n, h, X, Y)\n",
    "        \n",
    "        u0[:,0] = g(X[:,0],Y[:,0])\n",
    "        u0[:,-1] = g(X[:,-1],Y[:,-1])\n",
    "        u0[0,:] = g(X[0,:],Y[0,:])\n",
    "        u0[-1,:] = g(X[-1,:],Y[-1,:])\n",
    "        \n",
    "        N = n\n",
    "        \n",
    "        for j in range(1,i+1):\n",
    "            u,resMat,error,time,count = looper2(F,g,n,N,j,2*iterVec,h,u0,xa,xb,ya,yb,tol,k)\n",
    "            stats[i,j+1,k+1] = count\n",
    "            save('stats.mat','stats')\n",
    "        \n",
    "            "
   ]
  },
  {
   "cell_type": "code",
   "execution_count": null,
   "metadata": {
    "colab": {
     "base_uri": "https://localhost:8080/",
     "height": 34
    },
    "colab_type": "code",
    "executionInfo": {
     "elapsed": 230,
     "status": "ok",
     "timestamp": 1557410119664,
     "user": {
      "displayName": "Ivan Mitevski",
      "photoUrl": "",
      "userId": "16387745102337024781"
     },
     "user_tz": 240
    },
    "id": "gIxkrNme3i5I",
    "outputId": "ed1c1fe5-04e9-4563-f92b-a0a7bd16e857"
   },
   "outputs": [
    {
     "data": {
      "text/plain": [
       "4"
      ]
     },
     "execution_count": 3,
     "metadata": {
      "tags": []
     },
     "output_type": "execute_result"
    }
   ],
   "source": [
    "import numpy\n",
    "x = numpy.zeros((4,4))\n",
    "len(x[:,0])"
   ]
  },
  {
   "cell_type": "code",
   "execution_count": 0,
   "metadata": {
    "colab": {},
    "colab_type": "code",
    "id": "cWKuCZVg3i5L"
   },
   "outputs": [],
   "source": []
  }
 ],
 "metadata": {
  "colab": {
   "name": "ma_solver.ipynb",
   "provenance": [],
   "version": "0.3.2"
  },
  "kernelspec": {
   "display_name": "Python 3",
   "language": "python",
   "name": "python3"
  },
  "language_info": {
   "codemirror_mode": {
    "name": "ipython",
    "version": 3
   },
   "file_extension": ".py",
   "mimetype": "text/x-python",
   "name": "python",
   "nbconvert_exporter": "python",
   "pygments_lexer": "ipython3",
   "version": "3.11.6"
  }
 },
 "nbformat": 4,
 "nbformat_minor": 0
}
